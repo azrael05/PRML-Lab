{
  "cells": [
    {
      "cell_type": "markdown",
      "metadata": {
        "id": "1SxibeRm0eHP"
      },
      "source": [
        "##***LAB 10 : Naive Bayes Classifier***##\n",
        "\n",
        "  1. Binary Classification using Naive Bayes Classifier\n",
        "  \n",
        "  2. Sentiment Analysis using Naive Bayes\n",
        "\n",
        "  \n"
      ]
    },
    {
      "cell_type": "code",
      "execution_count": 27,
      "metadata": {
        "id": "JL_2f9KRjax4"
      },
      "outputs": [],
      "source": [
        "import numpy as np\n",
        "import matplotlib.pyplot as plt\n",
        "from sklearn.metrics import accuracy_score"
      ]
    },
    {
      "cell_type": "markdown",
      "metadata": {
        "id": "3kFmTcwYjaLM"
      },
      "source": [
        "##Binary Classification using Naive Bayes Classifier##\n",
        "\n",
        "Useful References : \n",
        "1. https://machinelearningmastery.com/naive-bayes-classifier-scratch-python/\n",
        "\n",
        "2. https://www.analyticsvidhya.com/blog/2021/01/a-guide-to-the-naive-bayes-algorithm/\n",
        "\n",
        "3. https://towardsdatascience.com/implementing-naive-bayes-algorithm-from-scratch-python-c6880cfc9c41\n",
        "\n",
        "**Note : The goal of this experiment is to perform and understand Naive Bayes classification by applying it on the below dataset, you can either fill in the below functions to get the result or you can create a class of your own using the above references to perform classification**"
      ]
    },
    {
      "cell_type": "markdown",
      "metadata": {
        "id": "buED4mnvjz_5"
      },
      "source": [
        "1. Generation of 2D training data"
      ]
    },
    {
      "cell_type": "code",
      "execution_count": 28,
      "metadata": {
        "colab": {
          "base_uri": "https://localhost:8080/",
          "height": 298
        },
        "id": "pXA9oMypj3OM",
        "outputId": "7907c6e3-b106-4492-e35f-26a1f03e5a63"
      },
      "outputs": [
        {
          "data": {
            "text/plain": [
              "Text(0.5, 1.0, 'Data visualization')"
            ]
          },
          "execution_count": 28,
          "metadata": {},
          "output_type": "execute_result"
        },
        {
          "data": {
            "image/png": "[encoded data removed]",
            "text/plain": [
              "<Figure size 432x288 with 1 Axes>"
            ]
          },
          "metadata": {
            "needs_background": "light"
          },
          "output_type": "display_data"
        }
      ],
      "source": [
        "mean1=np.array([0,0])\n",
        "mean2=np.array([4,5])\n",
        "var=np.array([[1,0.1],[0.1,1]])\n",
        "np.random.seed(0)\n",
        "data1=np.random.multivariate_normal(mean1,var,50)\n",
        "data2=np.random.multivariate_normal(mean2,var,50)\n",
        "data=np.concatenate((data1,data2))\n",
        "label=np.concatenate((np.zeros(data1.shape[0]),np.ones(data2.shape[0])))\n",
        "\n",
        "plt.figure()\n",
        "plt.scatter(data[:,0],data[:,1],c=label)\n",
        "plt.title('Data visualization')\n"
      ]
    },
    {
      "cell_type": "code",
      "execution_count": 29,
      "metadata": {},
      "outputs": [
        {
          "name": "stdout",
          "output_type": "stream",
          "text": [
            "[0 1]\n"
          ]
        }
      ],
      "source": [
        "from collections import Counter\n",
        "unique_labels=np.unique(label).astype(int)\n",
        "print(unique_labels)"
      ]
    },
    {
      "cell_type": "markdown",
      "metadata": {
        "id": "6cJBcLjTpMpX"
      },
      "source": [
        "2. Split the Dataset by Class Values (Create a Dictionary)"
      ]
    },
    {
      "cell_type": "code",
      "execution_count": 30,
      "metadata": {
        "colab": {
          "base_uri": "https://localhost:8080/"
        },
        "id": "vYfrEmkJn8I7",
        "outputId": "aac75912-f557-45a1-e709-08b3e367415c"
      },
      "outputs": [
        {
          "data": {
            "text/plain": [
              "{0: [array([-1.57668985, -1.03982262]),\n",
              "  array([-2.22908837,  0.77738534]),\n",
              "  array([-0.72944014, -2.04059601]),\n",
              "  array([-0.60307093, -0.80613793]),\n",
              "  array([-0.1988887,  0.351987 ]),\n",
              "  array([-1.0823819 ,  0.86873075]),\n",
              "  array([-0.64602276, -0.4827786 ]),\n",
              "  array([-0.55301333, -0.10534224]),\n",
              "  array([-0.97041435, -1.24566304]),\n",
              "  array([ 0.34076762, -0.80512206]),\n",
              "  array([1.45488724, 2.3318086 ]),\n",
              "  array([-0.14322361, -1.13894247]),\n",
              "  array([-0.70767693, -2.65891323]),\n",
              "  array([ 0.09163132, -0.15950217]),\n",
              "  array([-2.12241532, -0.15106366]),\n",
              "  array([-0.36859122,  0.13876704]),\n",
              "  array([ 1.9871582 , -0.67035913]),\n",
              "  array([0.15313648, 0.36290063]),\n",
              "  array([-1.71898891, -0.10582707]),\n",
              "  array([0.49004011, 0.08445841]),\n",
              "  array([ 1.73020468, -0.1749493 ]),\n",
              "  array([-0.04321608,  2.57402376]),\n",
              "  array([0.67183735, 0.084099  ]),\n",
              "  array([0.40754152, 1.45065429]),\n",
              "  array([1.3396092 , 1.05418816]),\n",
              "  array([0.40455369, 0.92363786]),\n",
              "  array([ 1.17081537, -0.41316892]),\n",
              "  array([-0.26643325,  0.30823425]),\n",
              "  array([-0.25223481,  0.15357382]),\n",
              "  array([0.71376003, 0.22709168]),\n",
              "  array([0.73990561, 0.25751442]),\n",
              "  array([ 1.761071  , -0.55498015]),\n",
              "  array([ 0.1379401 , -0.40110559]),\n",
              "  array([0.89854368, 1.51943123]),\n",
              "  array([0.63802444, 0.70771651]),\n",
              "  array([-0.6272324 , -0.45418367]),\n",
              "  array([-0.01665582, -1.67334851]),\n",
              "  array([ 0.16100003, -0.75776912]),\n",
              "  array([1.03410461, 0.25749629]),\n",
              "  array([0.19337668, 0.2687304 ]),\n",
              "  array([0.25980547, 1.46839103]),\n",
              "  array([ 0.68519909, -1.3758881 ]),\n",
              "  array([-2.37551849,  0.16808376]),\n",
              "  array([-0.75350908, -0.99490358]),\n",
              "  array([0.08674368, 1.50143912]),\n",
              "  array([-0.52103706,  1.11904511]),\n",
              "  array([-0.80961024,  0.50068852]),\n",
              "  array([-0.73827208,  0.2096953 ]),\n",
              "  array([-1.20578537,  1.19021132]),\n",
              "  array([-0.36378319,  0.17554214])],\n",
              " 1: [array([3.50752233, 2.6993138 ]),\n",
              "  array([4.29192581, 6.59250797]),\n",
              "  array([3.56619087, 7.17383233]),\n",
              "  array([4.80815598, 4.80534012]),\n",
              "  array([1.58074851, 4.56706754]),\n",
              "  array([2.00718797, 4.22277444]),\n",
              "  array([3.35739154, 6.92001259]),\n",
              "  array([3.6604525 , 5.73706073]),\n",
              "  array([3.40148307, 4.19351521]),\n",
              "  array([2.92595151, 5.16322159]),\n",
              "  array([4.45833583, 3.98333488]),\n",
              "  array([2.88905394, 5.66858736]),\n",
              "  array([4.61548321, 5.41472741]),\n",
              "  array([3.08219469, 6.56324233]),\n",
              "  array([3.22807915, 4.77474657]),\n",
              "  array([4.20924569, 5.9327244 ]),\n",
              "  array([4.4787459 , 5.52145107]),\n",
              "  array([4.01779082, 5.92532132]),\n",
              "  array([3.71211986, 4.43265775]),\n",
              "  array([4.43956151, 3.97306561]),\n",
              "  array([4.81119332, 6.40069914]),\n",
              "  array([3.45039959, 5.30238367]),\n",
              "  array([1.59903643, 3.86618863]),\n",
              "  array([3.92764978, 6.42628439]),\n",
              "  array([5.28554342, 5.66626269]),\n",
              "  array([2.90126409, 6.19995457]),\n",
              "  array([5.10671678, 4.99793313]),\n",
              "  array([4.51808911, 4.62793958]),\n",
              "  array([3.88890452, 3.44002436]),\n",
              "  array([5.14468414, 5.55728691]),\n",
              "  array([3.0749813, 6.6637202]),\n",
              "  array([3.23715953, 4.35462184]),\n",
              "  array([4.3423914 , 6.47522321]),\n",
              "  array([5.77804351, 4.7055156 ]),\n",
              "  array([2.90632196, 4.33154509]),\n",
              "  array([3.10326381, 4.53088183]),\n",
              "  array([3.80127866, 3.92783617]),\n",
              "  array([4.30978752, 6.22424252]),\n",
              "  array([5.05838861, 5.1332605 ]),\n",
              "  array([4.32610657, 5.34955732]),\n",
              "  array([5.18487428, 4.34018354]),\n",
              "  array([5.96882436, 3.98581601]),\n",
              "  array([4.61100889, 3.461623  ]),\n",
              "  array([4.78403921, 5.854026  ]),\n",
              "  array([3.51338894, 6.58356026]),\n",
              "  array([4.77966518, 6.13795151]),\n",
              "  array([4.81271386, 4.24555198]),\n",
              "  array([3.72700442, 4.49685086]),\n",
              "  array([2.87520143, 4.98004819]),\n",
              "  array([1.49913108, 4.29227149])]}"
            ]
          },
          "execution_count": 30,
          "metadata": {},
          "output_type": "execute_result"
        }
      ],
      "source": [
        "def class_dictionary(data,label):\n",
        "  class_dict = {}\n",
        "  for i in unique_labels:\n",
        "    class_dict[i] = list(data[label==i])\n",
        "  return class_dict\n",
        "# print(data)\n",
        "class_dictionary(data,label)"
      ]
    },
    {
      "cell_type": "markdown",
      "metadata": {
        "id": "C2FlXCa5q2rt"
      },
      "source": [
        "3. Calculate Mean, Std deviation and count for each column in a dataset"
      ]
    },
    {
      "cell_type": "code",
      "execution_count": 31,
      "metadata": {
        "colab": {
          "base_uri": "https://localhost:8080/"
        },
        "id": "Vhy2NkxQq8EO",
        "outputId": "70e1e354-c534-41db-a23a-530f84dcf182"
      },
      "outputs": [
        {
          "name": "stdout",
          "output_type": "stream",
          "text": [
            "{0: [(-0.08143074021616499, 0.9927104621843587, 50), (0.05650317153356918, 1.0255393627439437, 50)], 1: [(3.8912935273386946, 1.0208299436699904, 50), (5.136474984683965, 1.035467336214579, 50)]}\n"
          ]
        }
      ],
      "source": [
        "def get_variables(class_dict):\n",
        "  var_dict = {}\n",
        "  for i in unique_labels:\n",
        "    var_dict[i] = [(np.mean(class_dict[i],axis=0)[0],np.std(class_dict[i],axis=0)[0],50),(np.mean(class_dict[i],axis=0)[1],np.std(class_dict[i],axis=0)[1],50)]\n",
        "  ## Write your code here\n",
        "\n",
        "  return var_dict\n",
        "var_dict=get_variables(class_dictionary(data,label))\n",
        "print(var_dict)"
      ]
    },
    {
      "cell_type": "code",
      "execution_count": 32,
      "metadata": {},
      "outputs": [
        {
          "name": "stdout",
          "output_type": "stream",
          "text": [
            "mean_for_class0 [-0.08143074021616499, 0.05650317153356918]\n",
            "std_for_class0 [0.9927104621843587, 1.0255393627439437]\n",
            "mean_for_class1 [3.8912935273386946, 5.136474984683965]\n",
            "std_for_class1 [1.0208299436699904, 1.035467336214579]\n"
          ]
        }
      ],
      "source": [
        "mean_for_class0=[var_dict[0][0][0],var_dict[0][1][0]]\n",
        "std_for_class0=[var_dict[0][0][1],var_dict[0][1][1]]\n",
        "print(\"mean_for_class0\",mean_for_class0)\n",
        "print(\"std_for_class0\",std_for_class0)\n",
        "\n",
        "\n",
        "mean_for_class1=[var_dict[1][0][0],var_dict[1][1][0]]\n",
        "std_for_class1=[var_dict[1][0][1],var_dict[1][1][1]]\n",
        "print(\"mean_for_class1\",mean_for_class1)\n",
        "print(\"std_for_class1\",std_for_class1)\n"
      ]
    },
    {
      "cell_type": "markdown",
      "metadata": {
        "id": "zKFDa--0sqlR"
      },
      "source": [
        "3. Calculate Class Probabilities"
      ]
    },
    {
      "cell_type": "code",
      "execution_count": 33,
      "metadata": {
        "id": "_cEkA46bsteW"
      },
      "outputs": [],
      "source": [
        "from math import exp,sqrt,pi\n",
        "def calculate_probability(x,mean,stdev):\n",
        "  exponent = exp(-((x-mean)**2 / (2 * stdev**2 )))\n",
        "  return (1 / (sqrt(2 * pi) * stdev)) * exponent\n",
        "\n",
        "def calculate_class_probabilities(variables,point):\n",
        "  probabilities=dict()\n",
        "  total_rec = float(np.sum([variables[i][0][2] for i in variables]))\n",
        "  for key, class_arr in variables.items():\n",
        "    # firstly, set P(k) to be fraction of records that are contained in 'k' class.     \n",
        "    probabilities[key] = variables[key][0][2]/total_rec\n",
        "    for i in range(len(class_arr)): \n",
        "      mean, sig, count = class_arr[i]\n",
        "      probabilities[key] *= calculate_probability(point[i], mean, sig) # for kth class, get probability of FV being from that class\n",
        "      # in naive bayes, we assume independence of dimensions, so we simply multiply the abovementioned probabilities\n",
        "\n",
        "\n",
        "\n",
        "  ## Write your code here to calculate the class probabilities\n",
        "  '''\n",
        "  You can use the above function (calculate_probability) to calculate probability of an individual data point belonging to a particular class \n",
        "  based on mean and std deviation of that class\n",
        "  \n",
        "  '''\n",
        "  return probabilities"
      ]
    },
    {
      "cell_type": "markdown",
      "metadata": {
        "id": "14kbEgqEw9_a"
      },
      "source": [
        "4. Test the model using some samples"
      ]
    },
    {
      "cell_type": "code",
      "execution_count": 34,
      "metadata": {
        "colab": {
          "base_uri": "https://localhost:8080/",
          "height": 314
        },
        "id": "x2TpLdVWw9CS",
        "outputId": "b0757acf-9cfd-4cd8-a767-233eb9408252"
      },
      "outputs": [
        {
          "name": "stdout",
          "output_type": "stream",
          "text": [
            "Test Data Size :  20\n"
          ]
        },
        {
          "data": {
            "text/plain": [
              "Text(0.5, 1.0, 'Data visualization')"
            ]
          },
          "execution_count": 34,
          "metadata": {},
          "output_type": "execute_result"
        },
        {
          "data": {
            "image/png": "[encoded data removed]",
            "text/plain": [
              "<Figure size 432x288 with 1 Axes>"
            ]
          },
          "metadata": {
            "needs_background": "light"
          },
          "output_type": "display_data"
        }
      ],
      "source": [
        "## Test Data Generation\n",
        "\n",
        "mean1=np.array([0,0])\n",
        "mean2=np.array([4,5])\n",
        "var=np.array([[1,0.1],[0.1,1]])\n",
        "np.random.seed(0)\n",
        "data1=np.random.multivariate_normal(mean1,var,10)\n",
        "data2=np.random.multivariate_normal(mean2,var,10)\n",
        "test_data=np.concatenate((data1,data2))\n",
        "y_test=np.concatenate((np.zeros(data1.shape[0]),np.ones(data2.shape[0])))\n",
        "print('Test Data Size : ',test_data.shape[0])\n",
        "plt.figure()\n",
        "plt.scatter(data[:,0],data[:,1],c=label)\n",
        "plt.title('Data visualization')"
      ]
    },
    {
      "cell_type": "markdown",
      "metadata": {
        "id": "OLbY6KhzzoHw"
      },
      "source": [
        "Testing for a sample point"
      ]
    },
    {
      "cell_type": "code",
      "execution_count": 35,
      "metadata": {
        "colab": {
          "base_uri": "https://localhost:8080/"
        },
        "id": "cVcXm0UCxTcQ",
        "outputId": "f1a66200-ad53-4b8b-f09c-8b1f69ef05ed"
      },
      "outputs": [
        {
          "name": "stdout",
          "output_type": "stream",
          "text": [
            "test data[0] is  [-1.57668985 -1.03982262]\n",
            "Class Probabilites for the first sample of test dataset : \n",
            "{0: 0.014197204018409897, 1: 8.332975086162373e-16}\n"
          ]
        }
      ],
      "source": [
        "class_dict = class_dictionary(data,label)\n",
        "var_dict = get_variables(class_dict)\n",
        "# print(class_dict)\n",
        "# print(var_dict)\n",
        "print(\"test data[0] is \",test_data[0])\n",
        "out = calculate_class_probabilities(var_dict,test_data[0])\n",
        "print('Class Probabilites for the first sample of test dataset : ')\n",
        "print(out)"
      ]
    },
    {
      "cell_type": "markdown",
      "metadata": {
        "id": "mjV6DO0myhKQ"
      },
      "source": [
        "**As seen above the class probability for the 1st sample is given, we can observe that probability is higher for class 0 than 1 and hence imply that this datapoint belongs to class 0**\n",
        "\n",
        "\n",
        "Now Calculate the class probabilities for all the data points in the test dataset and calculate the accuracy by comparing the predicted labels with the true test labels\n"
      ]
    },
    {
      "cell_type": "code",
      "execution_count": 36,
      "metadata": {
        "id": "Rs-UXbl2y-2N"
      },
      "outputs": [
        {
          "name": "stdout",
          "output_type": "stream",
          "text": [
            "100.0\n"
          ]
        }
      ],
      "source": [
        "## Write your code here\n",
        "pred_labels=[]\n",
        "for point in test_data:\n",
        "    prob = calculate_class_probabilities(var_dict,point)\n",
        "    if(prob[0] > prob[1]):\n",
        "        pred_labels.append(0)\n",
        "    else:\n",
        "        pred_labels.append(1)\n",
        "pred_labels = np.array(pred_labels)\n",
        "\n",
        "print(accuracy_score(y_true=y_test,y_pred=pred_labels)*100)"
      ]
    },
    {
      "cell_type": "markdown",
      "metadata": {
        "id": "Qc_SfqHkz3Kz"
      },
      "source": [
        "5. Use the Sci-kit Learn library to perform Gaussian Naive Bayes classifier on the above dataset, also report the accuracy and confusion matrix for the same"
      ]
    },
    {
      "cell_type": "code",
      "execution_count": 37,
      "metadata": {
        "id": "vt0veSsf0BVV"
      },
      "outputs": [
        {
          "name": "stdout",
          "output_type": "stream",
          "text": [
            "Testing accuracy =  100.0\n",
            "[[10  0]\n",
            " [ 0 10]]\n"
          ]
        }
      ],
      "source": [
        "## Write your code here\n",
        "from sklearn.naive_bayes import GaussianNB\n",
        "from sklearn.metrics import confusion_matrix\n",
        "\n",
        "model = GaussianNB()\n",
        "model.fit(data,label)\n",
        "y_pred = model.predict(test_data)\n",
        "test_acc = model.score(test_data, y_test)\n",
        "print(\"Testing accuracy = \", test_acc*100)\n",
        "print(confusion_matrix(y_test, y_pred))"
      ]
    },
    {
      "cell_type": "markdown",
      "metadata": {
        "id": "1UTNODz-zsf1"
      },
      "source": [
        "##Sentiment Analysis using Naive Bayes Classifier##\n",
        "\n",
        "Go through the following [article](https://www.analyticsvidhya.com/blog/2021/07/performing-sentiment-analysis-with-naive-bayes-classifier/) and implement the same \n",
        "\n",
        "**Keypoints** : \n",
        "  \n",
        "  1. The link to the dataset is given in the above article, download the same to perform sentiment analysis\n",
        "\n",
        "  2. Understanding how to deal with text data is very important since it requires a lot of preprocessing, you can go through this [article](https://www.analyticsvidhya.com/blog/2021/06/text-preprocessing-in-nlp-with-python-codes/) if you are interested in learning more about it\n",
        "  \n",
        "  3. Split the dataset into train-test and train the model\n",
        "  \n",
        "  4. Report the accuracy metrics and try some sample prediction outside of those present in the dataset\n",
        "\n",
        "\n",
        "**Note : The goal of this experiment is to explore a practical use case of Naive bayes classifier as well as to understand how to deal with textual data, you can follow any other open source implemetations of sentiment analysis using naive bayes also**\n",
        "\n",
        "Other References : \n",
        "\n",
        "1. https://towardsdatascience.com/sentiment-analysis-introduction-to-naive-bayes-algorithm-96831d77ac91\n",
        "\n",
        "2. https://gist.github.com/CateGitau/6608912ca92733036c090676c61c13cd"
      ]
    },
    {
      "cell_type": "code",
      "execution_count": 38,
      "metadata": {
        "id": "5x6A4Mp4zw0E"
      },
      "outputs": [
        {
          "ename": "FileNotFoundError",
          "evalue": "[Errno 2] No such file or directory: 'google_play_store_apps_reviews_training.csv'",
          "output_type": "error",
          "traceback": [
            "\u001b[1;31m---------------------------------------------------------------------------\u001b[0m",
            "\u001b[1;31mFileNotFoundError\u001b[0m                         Traceback (most recent call last)",
            "\u001b[1;32m<ipython-input-38-7f930b26668c>\u001b[0m in \u001b[0;36m<module>\u001b[1;34m\u001b[0m\n\u001b[0;32m      6\u001b[0m \u001b[1;32mfrom\u001b[0m \u001b[0msklearn\u001b[0m\u001b[1;33m.\u001b[0m\u001b[0mfeature_extraction\u001b[0m\u001b[1;33m.\u001b[0m\u001b[0mtext\u001b[0m \u001b[1;32mimport\u001b[0m \u001b[0mCountVectorizer\u001b[0m\u001b[1;33m\u001b[0m\u001b[1;33m\u001b[0m\u001b[0m\n\u001b[0;32m      7\u001b[0m \u001b[0mpd\u001b[0m\u001b[1;33m.\u001b[0m\u001b[0mset_option\u001b[0m\u001b[1;33m(\u001b[0m\u001b[1;34m'display.max_columns'\u001b[0m\u001b[1;33m,\u001b[0m\u001b[1;32mNone\u001b[0m\u001b[1;33m)\u001b[0m\u001b[1;33m\u001b[0m\u001b[1;33m\u001b[0m\u001b[0m\n\u001b[1;32m----> 8\u001b[1;33m \u001b[0mdata\u001b[0m \u001b[1;33m=\u001b[0m \u001b[0mpd\u001b[0m\u001b[1;33m.\u001b[0m\u001b[0mread_csv\u001b[0m\u001b[1;33m(\u001b[0m\u001b[1;34m'google_play_store_apps_reviews_training.csv'\u001b[0m\u001b[1;33m)\u001b[0m\u001b[1;33m\u001b[0m\u001b[1;33m\u001b[0m\u001b[0m\n\u001b[0m\u001b[0;32m      9\u001b[0m \u001b[1;33m\u001b[0m\u001b[0m\n\u001b[0;32m     10\u001b[0m \u001b[0mprint\u001b[0m\u001b[1;33m(\u001b[0m\u001b[0mdata\u001b[0m\u001b[1;33m.\u001b[0m\u001b[0mhead\u001b[0m\u001b[1;33m(\u001b[0m\u001b[1;33m)\u001b[0m\u001b[1;33m)\u001b[0m\u001b[1;33m\u001b[0m\u001b[1;33m\u001b[0m\u001b[0m\n",
            "\u001b[1;32mc:\\Users\\Asus\\anaconda3\\lib\\site-packages\\pandas\\io\\parsers.py\u001b[0m in \u001b[0;36mread_csv\u001b[1;34m(filepath_or_buffer, sep, delimiter, header, names, index_col, usecols, squeeze, prefix, mangle_dupe_cols, dtype, engine, converters, true_values, false_values, skipinitialspace, skiprows, skipfooter, nrows, na_values, keep_default_na, na_filter, verbose, skip_blank_lines, parse_dates, infer_datetime_format, keep_date_col, date_parser, dayfirst, cache_dates, iterator, chunksize, compression, thousands, decimal, lineterminator, quotechar, quoting, doublequote, escapechar, comment, encoding, dialect, error_bad_lines, warn_bad_lines, delim_whitespace, low_memory, memory_map, float_precision, storage_options)\u001b[0m\n\u001b[0;32m    608\u001b[0m     \u001b[0mkwds\u001b[0m\u001b[1;33m.\u001b[0m\u001b[0mupdate\u001b[0m\u001b[1;33m(\u001b[0m\u001b[0mkwds_defaults\u001b[0m\u001b[1;33m)\u001b[0m\u001b[1;33m\u001b[0m\u001b[1;33m\u001b[0m\u001b[0m\n\u001b[0;32m    609\u001b[0m \u001b[1;33m\u001b[0m\u001b[0m\n\u001b[1;32m--> 610\u001b[1;33m     \u001b[1;32mreturn\u001b[0m \u001b[0m_read\u001b[0m\u001b[1;33m(\u001b[0m\u001b[0mfilepath_or_buffer\u001b[0m\u001b[1;33m,\u001b[0m \u001b[0mkwds\u001b[0m\u001b[1;33m)\u001b[0m\u001b[1;33m\u001b[0m\u001b[1;33m\u001b[0m\u001b[0m\n\u001b[0m\u001b[0;32m    611\u001b[0m \u001b[1;33m\u001b[0m\u001b[0m\n\u001b[0;32m    612\u001b[0m \u001b[1;33m\u001b[0m\u001b[0m\n",
            "\u001b[1;32mc:\\Users\\Asus\\anaconda3\\lib\\site-packages\\pandas\\io\\parsers.py\u001b[0m in \u001b[0;36m_read\u001b[1;34m(filepath_or_buffer, kwds)\u001b[0m\n\u001b[0;32m    460\u001b[0m \u001b[1;33m\u001b[0m\u001b[0m\n\u001b[0;32m    461\u001b[0m     \u001b[1;31m# Create the parser.\u001b[0m\u001b[1;33m\u001b[0m\u001b[1;33m\u001b[0m\u001b[1;33m\u001b[0m\u001b[0m\n\u001b[1;32m--> 462\u001b[1;33m     \u001b[0mparser\u001b[0m \u001b[1;33m=\u001b[0m \u001b[0mTextFileReader\u001b[0m\u001b[1;33m(\u001b[0m\u001b[0mfilepath_or_buffer\u001b[0m\u001b[1;33m,\u001b[0m \u001b[1;33m**\u001b[0m\u001b[0mkwds\u001b[0m\u001b[1;33m)\u001b[0m\u001b[1;33m\u001b[0m\u001b[1;33m\u001b[0m\u001b[0m\n\u001b[0m\u001b[0;32m    463\u001b[0m \u001b[1;33m\u001b[0m\u001b[0m\n\u001b[0;32m    464\u001b[0m     \u001b[1;32mif\u001b[0m \u001b[0mchunksize\u001b[0m \u001b[1;32mor\u001b[0m \u001b[0miterator\u001b[0m\u001b[1;33m:\u001b[0m\u001b[1;33m\u001b[0m\u001b[1;33m\u001b[0m\u001b[0m\n",
            "\u001b[1;32mc:\\Users\\Asus\\anaconda3\\lib\\site-packages\\pandas\\io\\parsers.py\u001b[0m in \u001b[0;36m__init__\u001b[1;34m(self, f, engine, **kwds)\u001b[0m\n\u001b[0;32m    817\u001b[0m             \u001b[0mself\u001b[0m\u001b[1;33m.\u001b[0m\u001b[0moptions\u001b[0m\u001b[1;33m[\u001b[0m\u001b[1;34m\"has_index_names\"\u001b[0m\u001b[1;33m]\u001b[0m \u001b[1;33m=\u001b[0m \u001b[0mkwds\u001b[0m\u001b[1;33m[\u001b[0m\u001b[1;34m\"has_index_names\"\u001b[0m\u001b[1;33m]\u001b[0m\u001b[1;33m\u001b[0m\u001b[1;33m\u001b[0m\u001b[0m\n\u001b[0;32m    818\u001b[0m \u001b[1;33m\u001b[0m\u001b[0m\n\u001b[1;32m--> 819\u001b[1;33m         \u001b[0mself\u001b[0m\u001b[1;33m.\u001b[0m\u001b[0m_engine\u001b[0m \u001b[1;33m=\u001b[0m \u001b[0mself\u001b[0m\u001b[1;33m.\u001b[0m\u001b[0m_make_engine\u001b[0m\u001b[1;33m(\u001b[0m\u001b[0mself\u001b[0m\u001b[1;33m.\u001b[0m\u001b[0mengine\u001b[0m\u001b[1;33m)\u001b[0m\u001b[1;33m\u001b[0m\u001b[1;33m\u001b[0m\u001b[0m\n\u001b[0m\u001b[0;32m    820\u001b[0m \u001b[1;33m\u001b[0m\u001b[0m\n\u001b[0;32m    821\u001b[0m     \u001b[1;32mdef\u001b[0m \u001b[0mclose\u001b[0m\u001b[1;33m(\u001b[0m\u001b[0mself\u001b[0m\u001b[1;33m)\u001b[0m\u001b[1;33m:\u001b[0m\u001b[1;33m\u001b[0m\u001b[1;33m\u001b[0m\u001b[0m\n",
            "\u001b[1;32mc:\\Users\\Asus\\anaconda3\\lib\\site-packages\\pandas\\io\\parsers.py\u001b[0m in \u001b[0;36m_make_engine\u001b[1;34m(self, engine)\u001b[0m\n\u001b[0;32m   1048\u001b[0m             )\n\u001b[0;32m   1049\u001b[0m         \u001b[1;31m# error: Too many arguments for \"ParserBase\"\u001b[0m\u001b[1;33m\u001b[0m\u001b[1;33m\u001b[0m\u001b[1;33m\u001b[0m\u001b[0m\n\u001b[1;32m-> 1050\u001b[1;33m         \u001b[1;32mreturn\u001b[0m \u001b[0mmapping\u001b[0m\u001b[1;33m[\u001b[0m\u001b[0mengine\u001b[0m\u001b[1;33m]\u001b[0m\u001b[1;33m(\u001b[0m\u001b[0mself\u001b[0m\u001b[1;33m.\u001b[0m\u001b[0mf\u001b[0m\u001b[1;33m,\u001b[0m \u001b[1;33m**\u001b[0m\u001b[0mself\u001b[0m\u001b[1;33m.\u001b[0m\u001b[0moptions\u001b[0m\u001b[1;33m)\u001b[0m  \u001b[1;31m# type: ignore[call-arg]\u001b[0m\u001b[1;33m\u001b[0m\u001b[1;33m\u001b[0m\u001b[0m\n\u001b[0m\u001b[0;32m   1051\u001b[0m \u001b[1;33m\u001b[0m\u001b[0m\n\u001b[0;32m   1052\u001b[0m     \u001b[1;32mdef\u001b[0m \u001b[0m_failover_to_python\u001b[0m\u001b[1;33m(\u001b[0m\u001b[0mself\u001b[0m\u001b[1;33m)\u001b[0m\u001b[1;33m:\u001b[0m\u001b[1;33m\u001b[0m\u001b[1;33m\u001b[0m\u001b[0m\n",
            "\u001b[1;32mc:\\Users\\Asus\\anaconda3\\lib\\site-packages\\pandas\\io\\parsers.py\u001b[0m in \u001b[0;36m__init__\u001b[1;34m(self, src, **kwds)\u001b[0m\n\u001b[0;32m   1865\u001b[0m \u001b[1;33m\u001b[0m\u001b[0m\n\u001b[0;32m   1866\u001b[0m         \u001b[1;31m# open handles\u001b[0m\u001b[1;33m\u001b[0m\u001b[1;33m\u001b[0m\u001b[1;33m\u001b[0m\u001b[0m\n\u001b[1;32m-> 1867\u001b[1;33m         \u001b[0mself\u001b[0m\u001b[1;33m.\u001b[0m\u001b[0m_open_handles\u001b[0m\u001b[1;33m(\u001b[0m\u001b[0msrc\u001b[0m\u001b[1;33m,\u001b[0m \u001b[0mkwds\u001b[0m\u001b[1;33m)\u001b[0m\u001b[1;33m\u001b[0m\u001b[1;33m\u001b[0m\u001b[0m\n\u001b[0m\u001b[0;32m   1868\u001b[0m         \u001b[1;32massert\u001b[0m \u001b[0mself\u001b[0m\u001b[1;33m.\u001b[0m\u001b[0mhandles\u001b[0m \u001b[1;32mis\u001b[0m \u001b[1;32mnot\u001b[0m \u001b[1;32mNone\u001b[0m\u001b[1;33m\u001b[0m\u001b[1;33m\u001b[0m\u001b[0m\n\u001b[0;32m   1869\u001b[0m         \u001b[1;32mfor\u001b[0m \u001b[0mkey\u001b[0m \u001b[1;32min\u001b[0m \u001b[1;33m(\u001b[0m\u001b[1;34m\"storage_options\"\u001b[0m\u001b[1;33m,\u001b[0m \u001b[1;34m\"encoding\"\u001b[0m\u001b[1;33m,\u001b[0m \u001b[1;34m\"memory_map\"\u001b[0m\u001b[1;33m,\u001b[0m \u001b[1;34m\"compression\"\u001b[0m\u001b[1;33m)\u001b[0m\u001b[1;33m:\u001b[0m\u001b[1;33m\u001b[0m\u001b[1;33m\u001b[0m\u001b[0m\n",
            "\u001b[1;32mc:\\Users\\Asus\\anaconda3\\lib\\site-packages\\pandas\\io\\parsers.py\u001b[0m in \u001b[0;36m_open_handles\u001b[1;34m(self, src, kwds)\u001b[0m\n\u001b[0;32m   1360\u001b[0m         \u001b[0mLet\u001b[0m \u001b[0mthe\u001b[0m \u001b[0mreaders\u001b[0m \u001b[0mopen\u001b[0m \u001b[0mIOHanldes\u001b[0m \u001b[0mafter\u001b[0m \u001b[0mthey\u001b[0m \u001b[0mare\u001b[0m \u001b[0mdone\u001b[0m \u001b[1;32mwith\u001b[0m \u001b[0mtheir\u001b[0m \u001b[0mpotential\u001b[0m \u001b[0mraises\u001b[0m\u001b[1;33m.\u001b[0m\u001b[1;33m\u001b[0m\u001b[1;33m\u001b[0m\u001b[0m\n\u001b[0;32m   1361\u001b[0m         \"\"\"\n\u001b[1;32m-> 1362\u001b[1;33m         self.handles = get_handle(\n\u001b[0m\u001b[0;32m   1363\u001b[0m             \u001b[0msrc\u001b[0m\u001b[1;33m,\u001b[0m\u001b[1;33m\u001b[0m\u001b[1;33m\u001b[0m\u001b[0m\n\u001b[0;32m   1364\u001b[0m             \u001b[1;34m\"r\"\u001b[0m\u001b[1;33m,\u001b[0m\u001b[1;33m\u001b[0m\u001b[1;33m\u001b[0m\u001b[0m\n",
            "\u001b[1;32mc:\\Users\\Asus\\anaconda3\\lib\\site-packages\\pandas\\io\\common.py\u001b[0m in \u001b[0;36mget_handle\u001b[1;34m(path_or_buf, mode, encoding, compression, memory_map, is_text, errors, storage_options)\u001b[0m\n\u001b[0;32m    640\u001b[0m                 \u001b[0merrors\u001b[0m \u001b[1;33m=\u001b[0m \u001b[1;34m\"replace\"\u001b[0m\u001b[1;33m\u001b[0m\u001b[1;33m\u001b[0m\u001b[0m\n\u001b[0;32m    641\u001b[0m             \u001b[1;31m# Encoding\u001b[0m\u001b[1;33m\u001b[0m\u001b[1;33m\u001b[0m\u001b[1;33m\u001b[0m\u001b[0m\n\u001b[1;32m--> 642\u001b[1;33m             handle = open(\n\u001b[0m\u001b[0;32m    643\u001b[0m                 \u001b[0mhandle\u001b[0m\u001b[1;33m,\u001b[0m\u001b[1;33m\u001b[0m\u001b[1;33m\u001b[0m\u001b[0m\n\u001b[0;32m    644\u001b[0m                 \u001b[0mioargs\u001b[0m\u001b[1;33m.\u001b[0m\u001b[0mmode\u001b[0m\u001b[1;33m,\u001b[0m\u001b[1;33m\u001b[0m\u001b[1;33m\u001b[0m\u001b[0m\n",
            "\u001b[1;31mFileNotFoundError\u001b[0m: [Errno 2] No such file or directory: 'google_play_store_apps_reviews_training.csv'"
          ]
        }
      ],
      "source": [
        "## Write your code here\n",
        "## Write your code here\n",
        "import pandas as pd\n",
        "from sklearn.model_selection import train_test_split\n",
        "import joblib\n",
        "from sklearn.feature_extraction.text import CountVectorizer\n",
        "pd.set_option('display.max_columns',None)\n",
        "data = pd.read_csv('google_play_store_apps_reviews_training.csv')\n",
        "\n",
        "print(data.head())"
      ]
    },
    {
      "cell_type": "code",
      "execution_count": null,
      "metadata": {},
      "outputs": [],
      "source": [
        "def preprocess_data(data):\n",
        "    # Remove package name as it's not relevant\n",
        "    data = data.drop('package_name', axis=1)\n",
        "    \n",
        "    # Convert text to lowercase\n",
        "    data['review'] = data['review'].str.strip().str.lower()\n",
        "    return data\n",
        "\n",
        "data = preprocess_data(data)\n",
        "# Split into training and testing data\n",
        "x = data['review']\n",
        "y = data['polarity']\n",
        "x, x_test, y, y_test = train_test_split(x,y, stratify=y, test_size=0.25, random_state=42)\n",
        "\n",
        "print(\"training set x = \\n\", x.head())\n",
        "print(\"___________________________________\")\n",
        "print(\"testing set x = \\n\", x_test.head())\n",
        "print(\"___________________________________\")\n",
        "print(\"training set y = \\n\", y.head())\n",
        "print(\"___________________________________\")\n",
        "print(\"testing set y = \\n\", y_test.head())"
      ]
    },
    {
      "cell_type": "code",
      "execution_count": null,
      "metadata": {},
      "outputs": [],
      "source": [
        "vec = CountVectorizer(stop_words='english')\n",
        "x = vec.fit_transform(x).toarray()\n",
        "x_test = vec.transform(x_test).toarray()"
      ]
    },
    {
      "cell_type": "code",
      "execution_count": null,
      "metadata": {},
      "outputs": [],
      "source": [
        "from sklearn.naive_bayes import MultinomialNB\n",
        "\n",
        "model = MultinomialNB()\n",
        "model.fit(x, y)"
      ]
    },
    {
      "cell_type": "code",
      "execution_count": null,
      "metadata": {},
      "outputs": [],
      "source": [
        "model.score(x_test, y_test)"
      ]
    },
    {
      "cell_type": "code",
      "execution_count": null,
      "metadata": {},
      "outputs": [],
      "source": [
        "model.predict(vec.transform(['I love this book! Though I hate the beginning. It would be great for you.']))"
      ]
    }
  ],
  "metadata": {
    "colab": {
      "name": "Lab_10_Naive_Bayes.ipynb",
      "provenance": []
    },
    "kernelspec": {
      "display_name": "Python 3.8.8 ('base')",
      "language": "python",
      "name": "python3"
    },
    "language_info": {
      "codemirror_mode": {
        "name": "ipython",
        "version": 3
      },
      "file_extension": ".py",
      "mimetype": "text/x-python",
      "name": "python",
      "nbconvert_exporter": "python",
      "pygments_lexer": "ipython3",
      "version": "3.8.8"
    },
    "vscode": {
      "interpreter": {
        "hash": "52d90d3cc821dd0beedd6e719dbdecc722c226b9d90ed1b663c34e1877f1142e"
      }
    }
  },
  "nbformat": 4,
  "nbformat_minor": 0
}
