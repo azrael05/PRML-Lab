{
  "cells": [
    {
      "cell_type": "markdown",
      "metadata": {
        "id": "3Mv3HAc5lxDS"
      },
      "source": [
        "#LAB 8 : Classification\n",
        "\n",
        "  1. Support Vector Machines \n",
        "  2. K-Nearest Neighbors\n",
        "  3. Classification on MNIST Digit "
      ]
    },
    {
      "cell_type": "code",
      "execution_count": 18,
      "metadata": {
        "id": "NS7TheMHWvey"
      },
      "outputs": [],
      "source": [
        "import numpy as np\n",
        "import matplotlib.pyplot as plt\n",
        "import math"
      ]
    },
    {
      "cell_type": "markdown",
      "metadata": {
        "id": "SijY2JQYm6MH"
      },
      "source": [
        "#Support Vector Machines (SVM)\n",
        "\n"
      ]
    },
    {
      "cell_type": "markdown",
      "metadata": {
        "id": "YrR-b3HRqHyt"
      },
      "source": [
        "1. Try to maximize the margin of separation between data.\n",
        "2. Instead of learning wx+b=0  separating hyperplane directly (like logistic regression), SVM try to learn wx+b=0, such that, the margin between two hyperplanes wx+b=1 and wx+b=-1 (also known as support vectors) is maximum. \n",
        "3. Margin between wx+b=1 and wx+b=-1 hyperplane is $\\frac{2}{||w||}$\n",
        "4. we have a constraint optimization problem of maximizing $\\frac{2}{||w||}$, with constraints wx+b>=1 (for +ve class) and wx+b<=-1 (for -ve class).\n",
        "5. As $y_{i}=1$ for +ve class and $y_{i}=-1$ for -ve class, the constraint can be re-written as:\n",
        "$$y(wx+b)>=1$$\n",
        "\n",
        "6. Final optimization is (i.e to find w and b):\n",
        "$$\\min_{||w||}\\frac{1}{2}||w||,$$\n",
        "$$y(wx+b) \\geq 1,~\\forall ~data $$\n",
        "\n",
        "\n",
        "\n",
        "Acknowledgement:\n",
        "\n",
        "https://pythonprogramming.net/predictions-svm-machine-learning-tutorial/\n",
        "\n",
        "https://medium.com/deep-math-machine-learning-ai/chapter-3-1-svm-from-scratch-in-python-86f93f853dc"
      ]
    },
    {
      "cell_type": "markdown",
      "metadata": {
        "id": "0WCG5fd2n6fo"
      },
      "source": [
        "## Data generation:\n",
        "1. Generate 2D gaussian data with fixed mean and variance for 2 class.(var=Identity, class1: mean[-4,-4], class2: mean[1,1], No. of data 25 from each class)\n",
        "2. create the label matrix\n",
        "3. Plot the generated data"
      ]
    },
    {
      "cell_type": "code",
      "execution_count": 19,
      "metadata": {
        "colab": {
          "base_uri": "https://localhost:8080/",
          "height": 317
        },
        "id": "a72yGlURm9aR",
        "outputId": "d533dcbc-0ca4-49c4-f02f-5e8cc8a44aca"
      },
      "outputs": [
        {
          "name": "stdout",
          "output_type": "stream",
          "text": [
            "(50, 2)\n",
            "(50,)\n"
          ]
        },
        {
          "data": {
            "text/plain": [
              "<matplotlib.collections.PathCollection at 0x21b3514e1c0>"
            ]
          },
          "execution_count": 19,
          "metadata": {},
          "output_type": "execute_result"
        },
        {
          "data": {
            "image/png": "[encoded data removed]",
            "text/plain": [
              "<Figure size 432x288 with 1 Axes>"
            ]
          },
          "metadata": {
            "needs_background": "light"
          },
          "output_type": "display_data"
        }
      ],
      "source": [
        "No_sample=50\n",
        "mean1=np.array([-4,-4])\n",
        "var1=np.array([[1,0],[0,1]])\n",
        "mean2=np.array([1,1])\n",
        "var2=var1\n",
        "data1=np.random.multivariate_normal(mean1,var1,int(No_sample/2))\n",
        "data2=np.random.multivariate_normal(mean2,var2,int(No_sample/2))\n",
        "X=np.concatenate((data1,data2))\n",
        "print(X.shape)\n",
        "y=np.concatenate((-1*np.ones(data1.shape[0]),np.ones(data2.shape[0])))\n",
        "print(y.shape)\n",
        "\n",
        "plt.figure()\n",
        "plt.scatter(X[:,0],X[:,1],marker='o',c=y)"
      ]
    },
    {
      "cell_type": "markdown",
      "metadata": {
        "id": "Phj7pyfloB14"
      },
      "source": [
        "Create a data dictionary, which contains both label and data points."
      ]
    },
    {
      "cell_type": "code",
      "execution_count": 20,
      "metadata": {
        "id": "bHCOeQPGoBgn"
      },
      "outputs": [],
      "source": [
        "postiveX=data1\n",
        "negativeX=data2\n",
        "\n",
        "## Write your code here\n",
        "\n",
        "#our data dictionary\n",
        "data_dict = {-1:np.array(negativeX), 1:np.array(postiveX)} \n",
        "# print(data_dict)"
      ]
    },
    {
      "cell_type": "markdown",
      "metadata": {
        "id": "0eLaHuaEoGua"
      },
      "source": [
        "## SVM training\n",
        "1. create a search space for w (i.e w1=w2),[0, 0.5*max((abs(feat)))] and  for b, [-max((abs(feat))),max((abs(feat)))], with appropriate step.\n",
        "2. we will start with a higher step and find optimal w and b, then we will reduce the step and again re-evaluate the optimal one.\n",
        "\n",
        "3. In each step, we will take transform of w, [1,1], [-1,1],[1,-1] and [-1,-1] to search arround the w. \n",
        "\n",
        "4. In every pass (for a fixed step size) we will store all the w, b and its corresponding ||w||, which make the data correctly classified as per the condition $y(wx+b) \\geq 1$. \n",
        "\n",
        "5. Obtain the optimal hyperplane having minimum ||w||.\n",
        "\n",
        "6. Start with the optimal w and repeat the same (step 3,4 and 5) for a reduced step size.\n"
      ]
    },
    {
      "cell_type": "code",
      "execution_count": 21,
      "metadata": {
        "id": "S0SJ1SkDoHk4"
      },
      "outputs": [],
      "source": [
        "# Just a searching algorithm, not a complicated optimization algorithm, (just for understanding of concepts through visualization)\n",
        "\n",
        "def SVM_Training(data_dict):\n",
        "    # insert your code here\n",
        "\n",
        "    # step 1:\n",
        "    wb_dict = {}\n",
        "\n",
        "    transforms = [[1,1], [-1,1], [-1,-1], [1,-1]]\n",
        "    all_data = []\n",
        "    w = 0\n",
        "    b = 0\n",
        "\n",
        "    # for each label\n",
        "    for yi in data_dict:\n",
        "        # for each FV in that label\n",
        "        for featureset in data_dict[yi]:\n",
        "            # for each feature\n",
        "            for feature in featureset:\n",
        "                all_data.append(feature)\n",
        "    # from this 1d array, get max, min\n",
        "    max_val = max(all_data)\n",
        "    min_val = min(all_data)\n",
        "\n",
        "    # support vectors: yi(xi.w+b) = 1\n",
        "    w_step = [max_val * 0.1, max_val * 0.01, max_val * 0.001] # reducing steps of w\n",
        "    \n",
        "    b_step = 2\n",
        "    b_multiple = 5\n",
        "    w_best = max_val * 0.5\n",
        "\n",
        "    # diff steps of w\n",
        "    for step in w_step:\n",
        "        w = np.array([w_best, w_best]) # take w1=w2. each time we run this loop we narrow down on best w\n",
        "        optimized = False\n",
        "        while not optimized:\n",
        "            for b in np.arange(-1*(max_val*b_step), max_val*b_step, step*b_multiple): # diff values of b\n",
        "                for tr in transforms: # transform w in diff dirns\n",
        "                    w_t = w*tr\n",
        "                    correct_class = True\n",
        "                    # go thru each FV in each label, check misclassificn; if any are misclassified then return false\n",
        "                    for yi in data_dict:\n",
        "                        for xi in data_dict[yi]:\n",
        "                            # condition for correct classification\n",
        "                            if not yi*(np.matmul(w_t, xi) + b) >= 1:\n",
        "                                correct_class = False\n",
        "                                break\n",
        "\n",
        "\n",
        "                    # if data was linearly separated\n",
        "                    if correct_class:\n",
        "                        wb_dict[np.linalg.norm(w_t)] = [w_t, b] # ||w|| : [w,b]\n",
        "\n",
        "                        \n",
        "            # keep decrementing w by step until it hits 0\n",
        "            if w[0] < 0:\n",
        "                optimized = True\n",
        "                print(\"w got optimized\")\n",
        "            else:\n",
        "                w = w - step\n",
        "\n",
        "        norms = sorted([n for n in wb_dict])    # arranges in increasing order of ||w||\n",
        "        w, b = wb_dict[norms[0]]                # get the w, b of corresponding min ||w||\n",
        "        w_best = w[0]\n",
        "\n",
        "    return w, b"
      ]
    },
    {
      "cell_type": "markdown",
      "metadata": {
        "id": "Z61b1mAfoOg0"
      },
      "source": [
        "**Training**"
      ]
    },
    {
      "cell_type": "code",
      "execution_count": 22,
      "metadata": {
        "colab": {
          "base_uri": "https://localhost:8080/"
        },
        "id": "oL5YnFPeoO--",
        "outputId": "38e70ea6-086d-421c-82ee-b3e4cc3eff5c"
      },
      "outputs": [
        {
          "name": "stdout",
          "output_type": "stream",
          "text": [
            "w got optimized\n",
            "w got optimized\n",
            "w got optimized\n",
            "[-0.78581925 -0.78581925]\n",
            "-1.041210504067478\n"
          ]
        }
      ],
      "source": [
        "# All the required variables \n",
        "w=[] # Weights 2 dimensional vector\n",
        "b=[] # Bias\n",
        "w,b=SVM_Training(data_dict)\n",
        "print(w)\n",
        "print(b)"
      ]
    },
    {
      "cell_type": "markdown",
      "metadata": {
        "id": "iJNvumy3oXXi"
      },
      "source": [
        "## Visualization of the SVM separating hyperplanes (after training)"
      ]
    },
    {
      "cell_type": "code",
      "execution_count": 23,
      "metadata": {
        "id": "fsGQFTlIoYKj"
      },
      "outputs": [],
      "source": [
        "def visualize(data_dict):\n",
        "       \n",
        "        plt.scatter(X[:,0],X[:,1],marker='o',c=y)\n",
        "\n",
        "        # hyperplane = x.w+b\n",
        "        # v = x.w+b\n",
        "        # psv = 1\n",
        "        # nsv = -1\n",
        "        # dec = 0\n",
        "        def hyperplane_value(x,w,b,v):\n",
        "            return (-w[0]*x-b+v) / w[1]\n",
        "\n",
        "        \n",
        "        hyp_x_min = np.min([np.min(data_dict[1]),np.min(data_dict[-1])])\n",
        "        hyp_x_max = np.max([np.max(data_dict[1]),np.max(data_dict[-1])])\n",
        "\n",
        "        # (w.x+b) = 1\n",
        "        # positive support vector hyperplane\n",
        "        psv1 = hyperplane_value(hyp_x_min, w, b, 1)\n",
        "        psv2 = hyperplane_value(hyp_x_max, w, b, 1)\n",
        "        plt.plot([hyp_x_min,hyp_x_max],[psv1,psv2], 'k')\n",
        "\n",
        "        # (w.x+b) = -1\n",
        "        # negative support vector hyperplane\n",
        "        nsv1 = hyperplane_value(hyp_x_min, w, b, -1)\n",
        "        nsv2 = hyperplane_value(hyp_x_max, w, b, -1)\n",
        "        plt.plot([hyp_x_min,hyp_x_max],[nsv1,nsv2], 'k')\n",
        "\n",
        "        # (w.x+b) = 0\n",
        "        # positive support vector hyperplane\n",
        "        db1 = hyperplane_value(hyp_x_min, w, b, 0)\n",
        "        db2 = hyperplane_value(hyp_x_max, w, b, 0)\n",
        "        plt.plot([hyp_x_min,hyp_x_max],[db1,db2], 'y--')\n",
        "        \n",
        "        \n",
        "        \n",
        "        "
      ]
    },
    {
      "cell_type": "code",
      "execution_count": 24,
      "metadata": {
        "colab": {
          "base_uri": "https://localhost:8080/",
          "height": 265
        },
        "id": "uqu0Z8Nnodvy",
        "outputId": "43f5d251-e980-45a9-8bc3-735c47753e8f"
      },
      "outputs": [
        {
          "data": {
            "image/png": "[encoded data removed]",
            "text/plain": [
              "<Figure size 432x288 with 1 Axes>"
            ]
          },
          "metadata": {
            "needs_background": "light"
          },
          "output_type": "display_data"
        }
      ],
      "source": [
        "fig = plt.figure()\n",
        "visualize(data_dict)\n",
        "plt.show()"
      ]
    },
    {
      "cell_type": "markdown",
      "metadata": {
        "id": "Hc2Tv8o0obsa"
      },
      "source": [
        "**Testing**"
      ]
    },
    {
      "cell_type": "code",
      "execution_count": 25,
      "metadata": {},
      "outputs": [],
      "source": [
        "def predict(data,w,b):\n",
        "  # print(data.shape)\n",
        "  # print(w.shape)\n",
        "  # print(b.shape)\n",
        "  y_pred = np.matmul(w,data.T)+b\n",
        "  y_pred=np.sign(y_pred)  \n",
        "  return y_pred"
      ]
    },
    {
      "cell_type": "code",
      "execution_count": 26,
      "metadata": {},
      "outputs": [
        {
          "name": "stdout",
          "output_type": "stream",
          "text": [
            "test accuracy= 85.49974004848316\n"
          ]
        },
        {
          "data": {
            "image/png": "[encoded data removed]",
            "text/plain": [
              "<Figure size 432x288 with 1 Axes>"
            ]
          },
          "metadata": {
            "needs_background": "light"
          },
          "output_type": "display_data"
        }
      ],
      "source": [
        "from sklearn.metrics import homogeneity_score\n",
        "\n",
        "No_test_sample=40\n",
        "# testing dataset\n",
        "data1=np.random.multivariate_normal(mean1,var1,int(No_test_sample/2))\n",
        "data2=np.random.multivariate_normal(mean2,var2,int(No_test_sample/2))\n",
        "test_data=np.concatenate((data1,data2))\n",
        "y_test=np.concatenate((-1*np.ones(data1.shape[0]),np.ones(data2.shape[0])))\n",
        "\n",
        "# evaluate with the trained model\n",
        "\n",
        "y_pred = predict(test_data,w,b)\n",
        "print('test accuracy=',homogeneity_score(y_test,y_pred)*100)\n",
        "\n",
        "#  Visualization\n",
        "visualize(data_dict)\n",
        "plt.scatter(test_data[:,0],test_data[:,1],marker='x',c=y_test)\n",
        "plt.show()"
      ]
    },
    {
      "cell_type": "markdown",
      "metadata": {
        "id": "SZ2tNKujp4GY"
      },
      "source": [
        "**Use the Sci-kit Learn Package and perform Classification on the above dataset using the SVM algorithm**"
      ]
    },
    {
      "cell_type": "code",
      "execution_count": 27,
      "metadata": {
        "id": "GEeB59yip7pI"
      },
      "outputs": [
        {
          "name": "stdout",
          "output_type": "stream",
          "text": [
            "Testing accuracy 100.0\n"
          ]
        }
      ],
      "source": [
        "from sklearn.svm import SVC\n",
        "\n",
        "model = SVC(kernel='linear')\n",
        "model.fit(X,y)\n",
        "print(\"Testing accuracy\",model.score(test_data,y_test)*100)"
      ]
    },
    {
      "cell_type": "markdown",
      "metadata": {
        "id": "mcLrD0lXmGu8"
      },
      "source": [
        "#K-Nearest Neighbours (KNN)"
      ]
    },
    {
      "cell_type": "code",
      "execution_count": 28,
      "metadata": {
        "colab": {
          "base_uri": "https://localhost:8080/",
          "height": 298
        },
        "id": "lo8_k4OnmQSo",
        "outputId": "537583d6-82b8-486d-db78-19efe667b8ec"
      },
      "outputs": [
        {
          "data": {
            "text/plain": [
              "Text(0.5, 1.0, 'Data visualization')"
            ]
          },
          "execution_count": 28,
          "metadata": {},
          "output_type": "execute_result"
        },
        {
          "data": {
            "image/png": "[encoded data removed]",
            "text/plain": [
              "<Figure size 432x288 with 1 Axes>"
            ]
          },
          "metadata": {
            "needs_background": "light"
          },
          "output_type": "display_data"
        }
      ],
      "source": [
        "import numpy as np\n",
        "import matplotlib.pyplot as plt\n",
        "\n",
        "mean1=np.array([0,0])\n",
        "mean2=np.array([1,1])\n",
        "var=np.array([[1,0.1],[0.1,1]])\n",
        "np.random.seed(0)\n",
        "\n",
        "data1=np.random.multivariate_normal(mean1,var,500)\n",
        "data2=np.random.multivariate_normal(mean2,var,500)\n",
        "\n",
        "x_train=np.concatenate((data1[:-100,],data2[:-100]))\n",
        "y_train=np.concatenate((np.zeros(data1.shape[0]-100),np.ones(data2.shape[0]-100)))\n",
        "\n",
        "plt.scatter(x_train[:,0],x_train[:,1],c=y_train)\n",
        "plt.title('Data visualization')"
      ]
    },
    {
      "cell_type": "code",
      "execution_count": 29,
      "metadata": {
        "id": "SNvi2JezmTdv"
      },
      "outputs": [],
      "source": [
        "def euclidean_distance(row1, row2):\n",
        "  return np.linalg.norm(row1-row2)"
      ]
    },
    {
      "cell_type": "code",
      "execution_count": 30,
      "metadata": {
        "id": "p7bHKojymWDK"
      },
      "outputs": [],
      "source": [
        "\n",
        "\n",
        "def get_neighbors(train,label_train, test_row, num_neighbors):\n",
        "  distance = []\n",
        "  for i in range(train.shape[0]):\n",
        "    train_row = train[i, :]               # get ith training FV, and corresponding label\n",
        "    y_trainel = label_train[i]\n",
        "    d = euclidean_distance(test_row, train_row)\n",
        "    distance.append([y_trainel, d])\n",
        "  \n",
        "  distance=np.array(distance)\n",
        "  distance=distance[distance[:,1].argsort()]\n",
        "  # print(distance)\n",
        "  \n",
        "  neighbors = []\n",
        "  for i in range(num_neighbors):\n",
        "    neighbors.append(distance[i][0])\n",
        "  return neighbors\n"
      ]
    },
    {
      "cell_type": "code",
      "execution_count": 31,
      "metadata": {
        "id": "8o48BauFmX6G"
      },
      "outputs": [],
      "source": [
        "\n",
        "def predict_classification(neighbors):\n",
        "  ## write your code here\n",
        "  from collections import Counter\n",
        "  predict=Counter(neighbors).most_common(1)[0][0]\n",
        "  ## most common(n) returns n most common elements in the list in format(value,frequency) so [0][0] returns the value\n",
        "  # print(predict)\n",
        "  # print(neigbors)  \n",
        "  return predict\n"
      ]
    },
    {
      "cell_type": "code",
      "execution_count": 32,
      "metadata": {
        "id": "wGgiErPimZue"
      },
      "outputs": [],
      "source": [
        "# test data generation\n",
        "x_test=np.concatenate((data1[-100:],data2[-100:]))\n",
        "y_test=np.concatenate((np.zeros(100),np.ones(100)))"
      ]
    },
    {
      "cell_type": "code",
      "execution_count": 33,
      "metadata": {
        "colab": {
          "base_uri": "https://localhost:8080/"
        },
        "id": "ELgGMgKnmeKu",
        "outputId": "d1b24c5c-aead-4f77-8784-a15583360091"
      },
      "outputs": [
        {
          "name": "stdout",
          "output_type": "stream",
          "text": [
            "Testing Accuracy= 73.0 %\n"
          ]
        }
      ],
      "source": [
        "K=5\n",
        "\n",
        "pred_label=np.zeros(x_test.shape[0])\n",
        "for i in range(x_test.shape[0]):\n",
        "  neighbour=get_neighbors(x_train,y_train, x_test[i,:], K)\n",
        "  pred_label[i]=predict_classification(neighbour)\n",
        "\n",
        "accuracy=(len(np.where(pred_label==y_test)[0])/len(y_test))*100\n",
        "print('Testing Accuracy=',accuracy,'%')"
      ]
    },
    {
      "cell_type": "markdown",
      "metadata": {
        "id": "kZ3mcjd3nFg2"
      },
      "source": [
        "**Use the Sci-kit Learn Package and perform Classification on the above dataset using the K-Nearest Neighbour algorithm**"
      ]
    },
    {
      "cell_type": "code",
      "execution_count": 35,
      "metadata": {
        "id": "XmfzWbEZnbX-"
      },
      "outputs": [
        {
          "name": "stdout",
          "output_type": "stream",
          "text": [
            "Testing Accuracy= 73.0 %\n"
          ]
        }
      ],
      "source": [
        "## Write your code here\n",
        "from sklearn.neighbors import KNeighborsClassifier\n",
        "neighbour = KNeighborsClassifier(n_neighbors=K)\n",
        "neighbour.fit(x_train, y_train)\n",
        "print('Testing Accuracy=',neighbour.score(x_test,y_test)*100,'%')"
      ]
    },
    {
      "cell_type": "markdown",
      "metadata": {
        "id": "ygq-jJs6Lxs9"
      },
      "source": [
        "#Classification on MNIST Digit Data"
      ]
    },
    {
      "cell_type": "markdown",
      "metadata": {
        "id": "cXApOGmzMxRp"
      },
      "source": [
        "1. Read MNIST data and perform train-test split\n",
        "2. Select any 2 Classes and perform classification task using SVM, KNN and Logistic Regression algorithms with the help of Sci-Kit Learn tool\n",
        "3. Report the train and test accuracy and also display the results using confusion matrix\n",
        "4. Repeat steps 2 and 3 for all 10 Classes and tabulate the results"
      ]
    },
    {
      "cell_type": "code",
      "execution_count": null,
      "metadata": {
        "id": "qPJhg4hhMXaE"
      },
      "outputs": [
        {
          "data": {
            "image/png": "[encoded data removed]",
            "text/plain": [
              "<Figure size 432x288 with 9 Axes>"
            ]
          },
          "metadata": {},
          "output_type": "display_data"
        }
      ],
      "source": [
        "## Write your code here\n",
        "import numpy as np\n",
        "import matplotlib.pyplot as plt \n",
        "from sklearn.utils import shuffle\n",
        "from sklearn.model_selection import train_test_split\n",
        "import idx2numpy\n",
        "\n",
        "# 60,000 small square 28×28 pixel grayscale images of handwritten single digits between 0 and 9\n",
        "img_file = 't10k-images-idx3-ubyte'\n",
        "lab_file = 't10k-labels-idx1-ubyte'\n",
        "x = idx2numpy.convert_from_file(img_file)\n",
        "y = idx2numpy.convert_from_file(lab_file)\n",
        "\n",
        "x_train, x_test, y_train, y_test = train_test_split(x, y, test_size = 0.3)\n",
        "\n",
        "class_0 = 1\n",
        "class_1 = 3\n",
        "\n",
        "# get indices of images of reqd classes\n",
        "i = np.where(y_train == class_0)[0]\n",
        "j = np.where(y_train == class_1)[0]\n",
        "# get data from those indices (for each class)\n",
        "class_0_train = x_train[i, :, :]\n",
        "class_0_label = y_train[i]\n",
        "class_1_train = x_train[j, :, :]\n",
        "class_1_label = y_train[j]\n",
        "\n",
        "x_new = np.concatenate((class_0_train, class_1_train), axis=0)\n",
        "y_new = np.concatenate((class_0_label,class_1_label), axis=0)\n",
        "\n",
        "# print(x_train.shape)\n",
        "\n",
        "for i in range(9):\n",
        "  plt.subplot(3, 3, i+1)\n",
        "  plt.tight_layout()\n",
        "  pos=np.random.randint(0,x_new.shape[0])\n",
        "  plt.imshow(x_new[pos], cmap='gray')\n",
        "  plt.title(\"Digit: {}\".format(y_new[pos]),color=\"red\")\n",
        "  plt.xticks([])\n",
        "  plt.yticks([])\n",
        "plt.show()\n",
        "\n",
        "np.place(y_new, y_new==class_0, [0])\n",
        "np.place(y_new, y_new==class_1, [1])\n",
        "\n",
        "x_new = x_new.astype('float32')\n",
        "x_new /= 255\n",
        "x_new = x_new.reshape(y_new.shape[0], 28*28)\n",
        "\n",
        "x_train, x_test, y_train, y_test = train_test_split(x_new, y_new, test_size = 0.3)"
      ]
    },
    {
      "cell_type": "markdown",
      "metadata": {},
      "source": [
        "### SVM\n"
      ]
    },
    {
      "cell_type": "code",
      "execution_count": null,
      "metadata": {},
      "outputs": [
        {
          "name": "stdout",
          "output_type": "stream",
          "text": [
            "Training accuracy = 100.0\n",
            "Testing accuracy =  100.0\n",
            "confusion matrix\n",
            " [[237   3]\n",
            " [  1 207]]\n"
          ]
        }
      ],
      "source": [
        "from sklearn.svm import LinearSVC\n",
        "from sklearn.metrics import confusion_matrix as conf_mat\n",
        "\n",
        "model = LinearSVC()\n",
        "\n",
        "model.fit(x_train, y_train)\n",
        "training_accuracy_svm = model.score(x_train, y_train)\n",
        "testing_accuracy_svm = model.score(x_train, y_train)\n",
        "\n",
        "print('Training accuracy =', training_accuracy_svm*100)\n",
        "print('Testing accuracy = ', testing_accuracy_svm*100)\n",
        "print(\"confusion matrix\\n\",conf_mat(y_test, model.predict(x_test)))"
      ]
    },
    {
      "cell_type": "markdown",
      "metadata": {},
      "source": [
        "### KNN"
      ]
    },
    {
      "cell_type": "code",
      "execution_count": null,
      "metadata": {},
      "outputs": [
        {
          "name": "stdout",
          "output_type": "stream",
          "text": [
            "Testing Accuracy = 98.88392857142857\n",
            "Training Accuracy = 99.52107279693486\n",
            "Confusion Matrix\n",
            " [[238   2]\n",
            " [  3 205]]\n"
          ]
        }
      ],
      "source": [
        "from sklearn.neighbors import KNeighborsClassifier\n",
        "model = KNeighborsClassifier(n_neighbors=5)\n",
        "model.fit(x_train, y_train)\n",
        "\n",
        "testing_accuracy_knn = model.score(x_test,y_test)\n",
        "training_accuracy_knn = model.score(x_train,y_train)\n",
        "\n",
        "print('Testing Accuracy =', testing_accuracy_knn*100)\n",
        "print('Training Accuracy =', training_accuracy_knn*100)\n",
        "print(\"Confusion Matrix\\n\",conf_mat(y_test, model.predict(x_test)))"
      ]
    },
    {
      "cell_type": "markdown",
      "metadata": {},
      "source": [
        "### LR"
      ]
    },
    {
      "cell_type": "code",
      "execution_count": null,
      "metadata": {},
      "outputs": [
        {
          "name": "stdout",
          "output_type": "stream",
          "text": [
            "Training accuracy = 100.0\n",
            "Testing accuracy = 99.33035714285714\n",
            "Confusion Matrix\n",
            " [[237   3]\n",
            " [  0 208]]\n"
          ]
        }
      ],
      "source": [
        "from sklearn.linear_model import LogisticRegression\n",
        "\n",
        "model = LogisticRegression()\n",
        "model.fit(x_train, y_train)\n",
        "\n",
        "training_accuracy_lr = model.score(x_train, y_train)\n",
        "testing_accuracy_lr = model.score(x_test, y_test)\n",
        "\n",
        "print('Training accuracy =', training_accuracy_lr*100)\n",
        "print('Testing accuracy =', testing_accuracy_lr*100)\n",
        "print(\"Confusion Matrix\\n\",conf_mat(y_test, model.predict(x_test)))"
      ]
    },
    {
      "cell_type": "markdown",
      "metadata": {},
      "source": [
        "## For multiclass"
      ]
    },
    {
      "cell_type": "code",
      "execution_count": null,
      "metadata": {},
      "outputs": [],
      "source": [
        "## Write your code here\n",
        "import numpy as np\n",
        "import matplotlib.pyplot as plt \n",
        "from sklearn.utils import shuffle\n",
        "from sklearn.model_selection import train_test_split\n",
        "import idx2numpy\n",
        "\n",
        "# 60,000 small square 28×28 pixel grayscale images of handwritten single digits between 0 and 9\n",
        "img_file = 't10k-images-idx3-ubyte'\n",
        "lab_file = 't10k-labels-idx1-ubyte'\n",
        "x = idx2numpy.convert_from_file(img_file)\n",
        "y = idx2numpy.convert_from_file(lab_file)\n",
        "\n",
        "x = x.astype('float32')\n",
        "x /= 255\n",
        "x = x.reshape(x.shape[0], 28*28)\n",
        "x_train, x_test, y_train, y_test = train_test_split(x, y, test_size = 0.3)"
      ]
    },
    {
      "cell_type": "markdown",
      "metadata": {},
      "source": [
        "### SVM"
      ]
    },
    {
      "cell_type": "code",
      "execution_count": null,
      "metadata": {},
      "outputs": [
        {
          "name": "stdout",
          "output_type": "stream",
          "text": [
            "Training accuracy = 98.4857142857143\n",
            "Testing accuracy =  88.16666666666667\n"
          ]
        },
        {
          "name": "stderr",
          "output_type": "stream",
          "text": [
            "c:\\Users\\Asus\\AppData\\Local\\Programs\\Python\\Python39\\lib\\site-packages\\sklearn\\svm\\_base.py:1206: ConvergenceWarning: Liblinear failed to converge, increase the number of iterations.\n",
            "  warnings.warn(\n"
          ]
        },
        {
          "data": {
            "text/plain": [
              "array([[290,   1,   1,   1,   1,   1,   1,   1,   3,   0],\n",
              "       [  0, 340,   1,   0,   0,   2,   0,   1,   3,   0],\n",
              "       [  6,   5, 282,   8,   4,   1,   6,  13,  13,   1],\n",
              "       [  1,   1,  11, 257,   0,  13,   2,   3,  10,   2],\n",
              "       [  0,   1,   3,   0, 257,   1,   1,   1,   1,  18],\n",
              "       [  3,   5,   1,  16,   4, 212,   8,   6,   8,   4],\n",
              "       [  2,   1,   6,   1,   2,  11, 261,   1,   1,   0],\n",
              "       [  1,   6,   5,   3,   7,   1,   0, 249,   0,   8],\n",
              "       [  3,   7,   8,   5,   3,  13,   5,   2, 237,  11],\n",
              "       [  2,   1,   2,   6,  11,   5,   1,  11,   5, 260]], dtype=int64)"
            ]
          },
          "execution_count": 867,
          "metadata": {},
          "output_type": "execute_result"
        }
      ],
      "source": [
        "from sklearn.svm import LinearSVC\n",
        "from sklearn.metrics import confusion_matrix as conf_mat\n",
        "\n",
        "model = LinearSVC()\n",
        "n = 2000\n",
        "model.fit(x_train, y_train)\n",
        "training_accuracy_svm = model.score(x_train, y_train)\n",
        "print('Training accuracy =', training_accuracy_svm*100)\n",
        "\n",
        "testing_accuracy_svm = model.score(x_test, y_test)\n",
        "print('Testing accuracy = ', testing_accuracy_svm*100)\n",
        "\n",
        "conf_mat(y_test, model.predict(x_test))"
      ]
    },
    {
      "cell_type": "markdown",
      "metadata": {},
      "source": [
        "### KNN"
      ]
    },
    {
      "cell_type": "code",
      "execution_count": null,
      "metadata": {},
      "outputs": [
        {
          "name": "stdout",
          "output_type": "stream",
          "text": [
            "Testing Accuracy = 94.26666666666667\n",
            "Training Accuracy = 96.57142857142857\n",
            "Confusion Matrix\n",
            " [[297   0   0   0   0   1   2   0   0   0]\n",
            " [  0 346   0   1   0   0   0   0   0   0]\n",
            " [  7   3 315   1   0   1   3   8   1   0]\n",
            " [  0   2   1 287   1   5   0   2   1   1]\n",
            " [  0   8   0   0 265   0   0   0   0  10]\n",
            " [  1   3   0   6   0 252   2   0   1   2]\n",
            " [  2   2   0   1   0   2 278   0   1   0]\n",
            " [  0  14   0   0   3   0   0 258   0   5]\n",
            " [  5   7   2   6   3  11   2   5 251   2]\n",
            " [  1   1   0   2   9   1   1  10   0 279]]\n"
          ]
        }
      ],
      "source": [
        "from sklearn.neighbors import KNeighborsClassifier\n",
        "model = KNeighborsClassifier(n_neighbors=5)\n",
        "model.fit(x_train, y_train)\n",
        "\n",
        "testing_accuracy_knn = model.score(x_test,y_test)\n",
        "training_accuracy_knn = model.score(x_train,y_train)\n",
        "\n",
        "print('Testing Accuracy =', testing_accuracy_knn*100)\n",
        "print('Training Accuracy =', training_accuracy_knn*100)\n",
        "print(\"Confusion Matrix\\n\",conf_mat(y_test, model.predict(x_test)))"
      ]
    },
    {
      "cell_type": "markdown",
      "metadata": {},
      "source": [
        "### Logistic Regression"
      ]
    },
    {
      "cell_type": "code",
      "execution_count": null,
      "metadata": {},
      "outputs": [
        {
          "name": "stdout",
          "output_type": "stream",
          "text": [
            "Training accuracy = 98.42857142857143\n",
            "Testing accuracy = 90.0\n",
            "Confusion Matrix\n",
            " [[291   0   1   1   2   0   2   1   1   1]\n",
            " [  0 338   1   0   0   2   0   4   2   0]\n",
            " [  7   3 287   7   4   2   5  10  12   2]\n",
            " [  1   1   8 261   2   9   2   2   9   5]\n",
            " [  0   0   0   0 267   1   0   2   1  12]\n",
            " [  1   6   0  10   2 226   3   6  11   2]\n",
            " [  2   1   7   0   4  10 261   1   0   0]\n",
            " [  1   5   5   2   3   0   0 253   1  10]\n",
            " [  3   6   4   6   1   9   7   1 252   5]\n",
            " [  3   1   2   5  12   3   1   8   5 264]]\n"
          ]
        }
      ],
      "source": [
        "from sklearn.linear_model import LogisticRegression\n",
        "\n",
        "model = LogisticRegression(max_iter=1000)\n",
        "model.fit(x_train, y_train)\n",
        "\n",
        "training_accuracy_lr = model.score(x_train, y_train)\n",
        "testing_accuracy_lr = model.score(x_test,y_test)\n",
        "\n",
        "print('Training accuracy =', training_accuracy_lr*100)\n",
        "print('Testing accuracy =', testing_accuracy_lr*100)\n",
        "print(\"Confusion Matrix\\n\",conf_mat(y_test, model.predict(x_test)))"
      ]
    }
  ],
  "metadata": {
    "colab": {
      "name": "Lab_8_Classification.ipynb",
      "provenance": []
    },
    "kernelspec": {
      "display_name": "Python 3.9.6 64-bit",
      "language": "python",
      "name": "python3"
    },
    "language_info": {
      "codemirror_mode": {
        "name": "ipython",
        "version": 3
      },
      "file_extension": ".py",
      "mimetype": "text/x-python",
      "name": "python",
      "nbconvert_exporter": "python",
      "pygments_lexer": "ipython3",
      "version": "3.9.6"
    },
    "vscode": {
      "interpreter": {
        "hash": "c25269a4018224bb4e3cb6b79397037e31419b0dedc1b97e47175df2e08dbf7b"
      }
    }
  },
  "nbformat": 4,
  "nbformat_minor": 0
}
